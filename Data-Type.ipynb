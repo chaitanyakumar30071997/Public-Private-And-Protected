{
 "cells": [
  {
   "cell_type": "code",
   "execution_count": 13,
   "id": "c44cdbff-a4d3-40b0-ae4b-9417be0e33f6",
   "metadata": {},
   "outputs": [
    {
     "name": "stdout",
     "output_type": "stream",
     "text": [
      "Apply\n"
     ]
    }
   ],
   "source": [
    "# List is an mutable , we can change \n",
    "#List is an order \n",
    "# Lisr allowd duplicates\n",
    "# List is indexed\n",
    "a = [10,20,\"Apply\",50,50]\n",
    "a[3]=5\n",
    "print(a[2])\n"
   ]
  },
  {
   "cell_type": "code",
   "execution_count": 14,
   "id": "e55b5e89-c86a-421e-8c59-398bf28ffeb9",
   "metadata": {},
   "outputs": [
    {
     "name": "stdout",
     "output_type": "stream",
     "text": [
      "Apply\n"
     ]
    }
   ],
   "source": [
    "print(a[2])"
   ]
  },
  {
   "cell_type": "code",
   "execution_count": 15,
   "id": "86c848b1-fff5-421f-8569-b625566d2d8e",
   "metadata": {},
   "outputs": [
    {
     "name": "stdout",
     "output_type": "stream",
     "text": [
      "(10, 20, 40, 'hello')\n"
     ]
    }
   ],
   "source": [
    "#Tuple is an order \n",
    "# tuple is an indexed \n",
    "# Tuble is an inmutable\n",
    "# Tuble is an duplicate \n",
    "\n",
    "t = (10,20,40,\"hello\",\"10\")\n",
    "print(t)\n",
    "print(t[0])\n",
    "\n"
   ]
  },
  {
   "cell_type": "code",
   "execution_count": 27,
   "id": "cd141d3b-bd42-403e-8c7b-9ac9cd841349",
   "metadata": {},
   "outputs": [
    {
     "name": "stdout",
     "output_type": "stream",
     "text": [
      "4\n"
     ]
    }
   ],
   "source": [
    "# set in an unorder\n",
    "# not indexed \n",
    "# not mutable\n",
    "# duplicate not allow \n",
    "# in set add \n",
    "\n",
    "s = {10,20,45,\"Apply\",10}\n",
    "#s.add(100)\n",
    "print(len(s))"
   ]
  },
  {
   "cell_type": "code",
   "execution_count": 41,
   "id": "2cd4af1a-1035-4f36-b60b-f4fff2430d8a",
   "metadata": {},
   "outputs": [
    {
     "name": "stdout",
     "output_type": "stream",
     "text": [
      "{'name': 'chaitanya', 'age': 30, 'city': 'New York'}\n"
     ]
    }
   ],
   "source": [
    "#  Dictionary  is an ordered\n",
    "# Dictionary is indexed \n",
    "# Dictionary mutable \n",
    "#  Dictionary duplicate not allows \n",
    "\n",
    "person = {\"name\": \"John\", \"age\": 30, \"city\": \"New York\"}\n",
    "#print (person)\n",
    "#print(person[\"city\"])\n",
    "person[\"name\"]= \"chaitanya\"\n",
    "print(person)\n",
    "\n"
   ]
  },
  {
   "cell_type": "code",
   "execution_count": 39,
   "id": "003ac226-e398-4c4e-a7bc-36d218f979c0",
   "metadata": {},
   "outputs": [
    {
     "name": "stdout",
     "output_type": "stream",
     "text": [
      "30\n"
     ]
    }
   ],
   "source": [
    "print(person[\"age\"])"
   ]
  },
  {
   "cell_type": "code",
   "execution_count": 35,
   "id": "0c934e80-0372-4796-aec8-f3ba11b0c311",
   "metadata": {},
   "outputs": [
    {
     "name": "stdout",
     "output_type": "stream",
     "text": [
      "name John\n",
      "age 30\n",
      "city New York\n"
     ]
    }
   ],
   "source": [
    "for key in person:\n",
    "    print(key, person[key])"
   ]
  },
  {
   "cell_type": "code",
   "execution_count": null,
   "id": "f77ceff7-68a6-4bce-87c8-1ebf389511c3",
   "metadata": {},
   "outputs": [],
   "source": []
  }
 ],
 "metadata": {
  "kernelspec": {
   "display_name": "Python 3 (ipykernel)",
   "language": "python",
   "name": "python3"
  },
  "language_info": {
   "codemirror_mode": {
    "name": "ipython",
    "version": 3
   },
   "file_extension": ".py",
   "mimetype": "text/x-python",
   "name": "python",
   "nbconvert_exporter": "python",
   "pygments_lexer": "ipython3",
   "version": "3.12.3"
  }
 },
 "nbformat": 4,
 "nbformat_minor": 5
}
