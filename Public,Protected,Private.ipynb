{
 "cells": [
  {
   "cell_type": "markdown",
   "id": "6cc4a8f6-ef7b-4035-9d24-a0321c157b4f",
   "metadata": {},
   "source": [
    "# Public Access Modifier\n",
    "Public members of a class are accessible from any part of the program. By default, all data members and member functions in Python are public."
   ]
  },
  {
   "cell_type": "code",
   "execution_count": 41,
   "id": "e32dce80-5aed-4410-a630-161851f4977c",
   "metadata": {},
   "outputs": [
    {
     "name": "stdout",
     "output_type": "stream",
     "text": [
      "Name: R2J\n",
      "Age: 20\n"
     ]
    }
   ],
   "source": [
    "class Geek:\n",
    "    def __init__(self, name, age):\n",
    "        self.geekName = name\n",
    "        self.geekAge = age\n",
    "\n",
    "    def displayAge(self):\n",
    "        print(\"Age:\", self.geekAge)\n",
    "\n",
    "# Creating an object of the class\n",
    "obj = Geek(\"R2J\", 20)\n",
    "print(\"Name:\", obj.geekName)\n",
    "obj.displayAge()\n"
   ]
  },
  {
   "cell_type": "markdown",
   "id": "f2175198-a971-4753-8961-ac6a2972a51d",
   "metadata": {},
   "source": [
    "# Private Access Modifier\n",
    "vate Access Modifier\n",
    "Private members are accessible only within the class itself. They are denoted by double underscores (__) before the member name.\n",
    "Although Python doesn’t enforce true privacy, it uses name mangling to make these members less accessible from outside the class.\n",
    "Here’s a snippet demonstrating private members:"
   ]
  },
  {
   "cell_type": "code",
   "execution_count": 47,
   "id": "2425ec4c-4129-4f2c-ab4f-e2869260a0b0",
   "metadata": {},
   "outputs": [
    {
     "name": "stdout",
     "output_type": "stream",
     "text": [
      "Windows: 4\n"
     ]
    }
   ],
   "source": [
    "class Car():\n",
    "    def __init__(self, windows, doors, enginetype):\n",
    "        self.__windows = windows\n",
    "        self.__doors = doors\n",
    "        self.__enginetype = enginetype\n",
    "\n",
    "# Creating an object of the class\n",
    "my_car = Car(windows=4, doors=2, enginetype='Electric')\n",
    "print(\"Windows:\", my_car._Car__windows)  # Access the __windows attribute\n"
   ]
  },
  {
   "cell_type": "markdown",
   "id": "4435e7db-dfa2-4835-bd76-a387e5573c21",
   "metadata": {},
   "source": [
    "# Protected Access Modifier\n",
    "Protected members are accessible within the class itself and by its subclasses. They are denoted by a single underscore (_) before the member name.\n",
    "Here’s an example using protected members:"
   ]
  },
  {
   "cell_type": "code",
   "execution_count": 42,
   "id": "42482839-ffef-4b3b-8d2d-31f9921de37b",
   "metadata": {},
   "outputs": [
    {
     "name": "stdout",
     "output_type": "stream",
     "text": [
      "Name: R2J\n",
      "Roll: 1706256\n",
      "Branch: Information Technology\n"
     ]
    }
   ],
   "source": [
    "class Student:\n",
    "    def __init__(self, name, roll, branch):\n",
    "        self._name = name\n",
    "        self._roll = roll\n",
    "        self._branch = branch\n",
    "\n",
    "    def _displayRollAndBranch(self):\n",
    "        print(\"Roll:\", self._roll)\n",
    "        print(\"Branch:\", self._branch)\n",
    "\n",
    "class Geek(Student):\n",
    "    def displayDetails(self):\n",
    "        print(\"Name:\", self._name)\n",
    "        self._displayRollAndBranch()\n",
    "\n",
    "# Creating an object of the derived class\n",
    "obj = Geek(\"R2J\", 1706256, \"Information Technology\")\n",
    "obj.displayDetails()\n"
   ]
  },
  {
   "cell_type": "markdown",
   "id": "96966e33-0406-4b1a-82ac-96ba9ccda116",
   "metadata": {},
   "source": [
    "### Public Private And Protected"
   ]
  },
  {
   "cell_type": "code",
   "execution_count": 1,
   "id": "dd32855f-56b2-4f62-bd93-0ecdd168d3e3",
   "metadata": {},
   "outputs": [],
   "source": [
    "class car():\n",
    "    def __init__ (self,windows,doors,enginetype):\n",
    "        self.windows = 4\n",
    "        self.doors = 4\n",
    "        self.enginetype = \"petriol\"\n",
    "        \n",
    "        "
   ]
  },
  {
   "cell_type": "code",
   "execution_count": null,
   "id": "ca372db8-1dfb-4545-8e59-2215a83ce179",
   "metadata": {},
   "outputs": [],
   "source": []
  },
  {
   "cell_type": "code",
   "execution_count": 2,
   "id": "5ef3ad62-2cbb-4142-a135-f9ae1247cdd6",
   "metadata": {},
   "outputs": [],
   "source": [
    "audi = car(4,4,\"petrol\")"
   ]
  },
  {
   "cell_type": "code",
   "execution_count": 10,
   "id": "b968c250-4810-4c27-a2a0-a9340e2e7025",
   "metadata": {},
   "outputs": [
    {
     "data": {
      "text/plain": [
       "4"
      ]
     },
     "execution_count": 10,
     "metadata": {},
     "output_type": "execute_result"
    }
   ],
   "source": [
    "audi.windows"
   ]
  },
  {
   "cell_type": "code",
   "execution_count": 5,
   "id": "244d19b6-742a-4571-acca-f4a89640696d",
   "metadata": {},
   "outputs": [
    {
     "data": {
      "text/plain": [
       "['__class__',\n",
       " '__delattr__',\n",
       " '__dict__',\n",
       " '__dir__',\n",
       " '__doc__',\n",
       " '__eq__',\n",
       " '__format__',\n",
       " '__ge__',\n",
       " '__getattribute__',\n",
       " '__getstate__',\n",
       " '__gt__',\n",
       " '__hash__',\n",
       " '__init__',\n",
       " '__init_subclass__',\n",
       " '__le__',\n",
       " '__lt__',\n",
       " '__module__',\n",
       " '__ne__',\n",
       " '__new__',\n",
       " '__reduce__',\n",
       " '__reduce_ex__',\n",
       " '__repr__',\n",
       " '__setattr__',\n",
       " '__sizeof__',\n",
       " '__str__',\n",
       " '__subclasshook__',\n",
       " '__weakref__',\n",
       " 'doors',\n",
       " 'enginetype',\n",
       " 'windows']"
      ]
     },
     "execution_count": 5,
     "metadata": {},
     "output_type": "execute_result"
    }
   ],
   "source": [
    "dir(audi)"
   ]
  },
  {
   "cell_type": "code",
   "execution_count": 11,
   "id": "7dc7d225-bb03-4b4d-a7f8-ddc9a303c151",
   "metadata": {},
   "outputs": [
    {
     "data": {
      "text/plain": [
       "4"
      ]
     },
     "execution_count": 11,
     "metadata": {},
     "output_type": "execute_result"
    }
   ],
   "source": [
    "audi.windows "
   ]
  },
  {
   "cell_type": "markdown",
   "id": "442adc93-a78b-4703-9040-70638589da8e",
   "metadata": {},
   "source": [
    "### All the class variables are protected"
   ]
  },
  {
   "cell_type": "code",
   "execution_count": 23,
   "id": "3a47dbc8-4e2b-4460-9bb6-27410e19c7c8",
   "metadata": {},
   "outputs": [],
   "source": [
    "class Truck(Car):\n",
    "    def __init__(self,windows,doors,enginetype,horsepower):\n",
    "        super().__init__(windows,doors,enginetype)\n",
    "        self.__horsepowwer=horsepower"
   ]
  },
  {
   "cell_type": "code",
   "execution_count": 24,
   "id": "ae58616f-218f-4bfe-8ea9-4f8b580295ff",
   "metadata": {},
   "outputs": [
    {
     "data": {
      "text/plain": [
       "['_Truck__horsepowwer',\n",
       " '__class__',\n",
       " '__delattr__',\n",
       " '__dict__',\n",
       " '__dir__',\n",
       " '__doc__',\n",
       " '__eq__',\n",
       " '__format__',\n",
       " '__ge__',\n",
       " '__getattribute__',\n",
       " '__getstate__',\n",
       " '__gt__',\n",
       " '__hash__',\n",
       " '__init__',\n",
       " '__init_subclass__',\n",
       " '__le__',\n",
       " '__lt__',\n",
       " '__module__',\n",
       " '__ne__',\n",
       " '__new__',\n",
       " '__reduce__',\n",
       " '__reduce_ex__',\n",
       " '__repr__',\n",
       " '__setattr__',\n",
       " '__sizeof__',\n",
       " '__str__',\n",
       " '__subclasshook__',\n",
       " '__weakref__',\n",
       " '_doors',\n",
       " '_enginetype',\n",
       " '_windows']"
      ]
     },
     "execution_count": 24,
     "metadata": {},
     "output_type": "execute_result"
    }
   ],
   "source": [
    "truck=Truck(4,4,\"Diesel\",4000)\n",
    "dir(truck)"
   ]
  },
  {
   "cell_type": "code",
   "execution_count": null,
   "id": "a001574d-a72a-4415-9c04-5fec13f29099",
   "metadata": {},
   "outputs": [],
   "source": []
  },
  {
   "cell_type": "code",
   "execution_count": 25,
   "id": "45974859-ca16-4b5f-9db5-cb4f22d04953",
   "metadata": {},
   "outputs": [],
   "source": [
    "### private\n",
    "class Car():\n",
    "    def __init__(self,windows,doors,enginetype):\n",
    "        self.__windows=windows\n",
    "        self.__doors=doors\n",
    "        self.__enginetype=enginetype"
   ]
  },
  {
   "cell_type": "code",
   "execution_count": 37,
   "id": "6110232e-94ca-4ff2-88d9-4964b28353f9",
   "metadata": {},
   "outputs": [],
   "source": [
    "audi=Car(4,4,\"Diesel\")"
   ]
  },
  {
   "cell_type": "code",
   "execution_count": null,
   "id": "9d63fce7-7c59-4cd4-b33c-db24836e6442",
   "metadata": {},
   "outputs": [],
   "source": []
  },
  {
   "cell_type": "code",
   "execution_count": null,
   "id": "87d901f3-3a81-4f41-ade1-379e73640037",
   "metadata": {},
   "outputs": [],
   "source": []
  },
  {
   "cell_type": "code",
   "execution_count": 30,
   "id": "7ab7cc23-d2d5-4989-935d-9e5b0eced580",
   "metadata": {},
   "outputs": [],
   "source": [
    "audi._Car__doors=5"
   ]
  },
  {
   "cell_type": "code",
   "execution_count": 27,
   "id": "a55938ae-fca7-41f7-9874-523aca0d2897",
   "metadata": {},
   "outputs": [
    {
     "data": {
      "text/plain": [
       "['__class__',\n",
       " '__delattr__',\n",
       " '__dict__',\n",
       " '__dir__',\n",
       " '__doc__',\n",
       " '__eq__',\n",
       " '__format__',\n",
       " '__ge__',\n",
       " '__getattribute__',\n",
       " '__getstate__',\n",
       " '__gt__',\n",
       " '__hash__',\n",
       " '__init__',\n",
       " '__init_subclass__',\n",
       " '__le__',\n",
       " '__lt__',\n",
       " '__module__',\n",
       " '__ne__',\n",
       " '__new__',\n",
       " '__reduce__',\n",
       " '__reduce_ex__',\n",
       " '__repr__',\n",
       " '__setattr__',\n",
       " '__sizeof__',\n",
       " '__str__',\n",
       " '__subclasshook__',\n",
       " '__weakref__']"
      ]
     },
     "execution_count": 27,
     "metadata": {},
     "output_type": "execute_result"
    }
   ],
   "source": [
    "dir(car)"
   ]
  },
  {
   "cell_type": "code",
   "execution_count": 40,
   "id": "1dda41e8-aec6-4a19-a1a8-dadfa1a8b6f5",
   "metadata": {},
   "outputs": [
    {
     "name": "stdout",
     "output_type": "stream",
     "text": [
      "4\n"
     ]
    }
   ],
   "source": [
    "my_car = Car(windows=4, doors=2, enginetype='Electric')\n",
    "print(my_car._Car__windows)  # Access the __windows attribute\n"
   ]
  },
  {
   "cell_type": "code",
   "execution_count": null,
   "id": "ea6622cf-058c-476e-b0f1-08853c2bd183",
   "metadata": {},
   "outputs": [],
   "source": []
  }
 ],
 "metadata": {
  "kernelspec": {
   "display_name": "Python 3 (ipykernel)",
   "language": "python",
   "name": "python3"
  },
  "language_info": {
   "codemirror_mode": {
    "name": "ipython",
    "version": 3
   },
   "file_extension": ".py",
   "mimetype": "text/x-python",
   "name": "python",
   "nbconvert_exporter": "python",
   "pygments_lexer": "ipython3",
   "version": "3.12.3"
  }
 },
 "nbformat": 4,
 "nbformat_minor": 5
}
