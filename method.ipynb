{
 "cells": [
  {
   "cell_type": "raw",
   "id": "d89335d8-6380-4855-a882-f50f975c27f9",
   "metadata": {},
   "source": [
    "Python Set Methods and Operations"
   ]
  },
  {
   "cell_type": "raw",
   "id": "80823b74-7ced-4e34-a7ce-14a782be331d",
   "metadata": {},
   "source": [
    "# Add() :- Adds an element to the set.\n",
    "# update() :- Update the set with another set \n",
    "# Len() :- Return length of a set \n",
    "# Remove() :- Removes an element from the set (raises an error if not found).\n",
    "# discard :- Removes an element from the set (no error if not found).\n",
    "# pop ():-  Removes and returns a random element from the set.\n",
    "# clear ():-  Removes all elements from the set.\n",
    "# copy() :- To create a deep copy (including nested elements), use\n",
    "# union():-Combines elements from two sets.  \n",
    "# intersection () :-  Finds common elements between two sets.\n",
    "# difference() :-  Removes elements from one set that are present in\n",
    "# symmentic_different from():- Finds elements unique to each set.\n",
    "# append() :-  method in Python is used to the end of a list. It modifies the original list in place and does not return a new list\n"
   ]
  },
  {
   "cell_type": "code",
   "execution_count": 12,
   "id": "9d61c567-cdf5-402b-8527-9b1d2a3f3558",
   "metadata": {},
   "outputs": [
    {
     "name": "stdout",
     "output_type": "stream",
     "text": [
      "[10, 20, 'Hello', 30, 50, 60]\n",
      "[20, 'Hello', 30, 50, 60]\n"
     ]
    }
   ],
   "source": [
    "a = [10,20,\"Hello\",30,50]\n",
    "\n",
    "a.append(60)\n",
    "print(a)\n",
    "a.remove(10)\n",
    "print(a)\n",
    "\n",
    "\n"
   ]
  },
  {
   "cell_type": "code",
   "execution_count": 16,
   "id": "184a57b8-db2a-4619-8e58-657556052fd1",
   "metadata": {},
   "outputs": [
    {
     "name": "stdout",
     "output_type": "stream",
     "text": [
      "{200, 10, 'Hello', 20}\n",
      "4\n",
      "None\n"
     ]
    }
   ],
   "source": [
    "set = {10,20,'Hello'}\n",
    "set.add(200)\n",
    "print(set)\n",
    "lenth = len(set)\n",
    "print(lenth)\n",
    "set.discard(200)\n",
    "print()\n",
    "       "
   ]
  },
  {
   "cell_type": "code",
   "execution_count": 17,
   "id": "c187e092-75b1-4fde-ab2b-3987256fdec9",
   "metadata": {},
   "outputs": [
    {
     "name": "stdout",
     "output_type": "stream",
     "text": [
      "{1, 2, 4}\n"
     ]
    }
   ],
   "source": [
    "my_set = {1, 2, 3, 4}\n",
    "my_set.discard(3)  # Removes 3 from the set\n",
    "print(my_set)  # Output: {1, 2, 4}\n"
   ]
  },
  {
   "cell_type": "code",
   "execution_count": 18,
   "id": "4d3bff77-89f7-4d1a-97ce-e389804bc691",
   "metadata": {},
   "outputs": [
    {
     "name": "stdout",
     "output_type": "stream",
     "text": [
      "{40, 10, 'Hello'}\n"
     ]
    }
   ],
   "source": [
    "set = {10,20, 'Hello', 40}\n",
    "set.discard(20)\n",
    "print(set)"
   ]
  },
  {
   "cell_type": "code",
   "execution_count": 19,
   "id": "66cfc88d-5a2b-4503-8406-f45eacabf502",
   "metadata": {},
   "outputs": [
    {
     "name": "stdout",
     "output_type": "stream",
     "text": [
      "Removed value: 30\n",
      "Updated list: [10, 20, 40, 50]\n"
     ]
    }
   ],
   "source": [
    "my_list = [10, 20, 30, 40, 50]\n",
    "removed_value = my_list.pop(2)  # Removes the element at index 2 (30)\n",
    "print(f\"Removed value: {removed_value}\")\n",
    "print(f\"Updated list: {my_list}\")\n"
   ]
  },
  {
   "cell_type": "code",
   "execution_count": 25,
   "id": "0eeede06-0d28-4a1f-a693-dac9971349ed",
   "metadata": {},
   "outputs": [
    {
     "name": "stdout",
     "output_type": "stream",
     "text": [
      "[]\n"
     ]
    }
   ],
   "source": [
    "my_list = [10,20,45,65]\n",
    "my_list.clear()\n",
    "print(my_list)"
   ]
  },
  {
   "cell_type": "code",
   "execution_count": 26,
   "id": "d073a070-8a72-4150-b2a4-fcf4f272b4c5",
   "metadata": {},
   "outputs": [
    {
     "name": "stdout",
     "output_type": "stream",
     "text": [
      "{1, 2, 3, 4, 5, 6, 7}\n"
     ]
    }
   ],
   "source": [
    "a = {1, 2, 3}\n",
    "b = {3, 4, 5}\n",
    "c = {5, 6, 7}\n",
    "result = a.union(b, c)  # Unify a, b, and c\n",
    "print(result)\n"
   ]
  },
  {
   "cell_type": "code",
   "execution_count": null,
   "id": "cb4e296c-68ab-4e03-9d3c-78b86233809d",
   "metadata": {},
   "outputs": [],
   "source": []
  }
 ],
 "metadata": {
  "kernelspec": {
   "display_name": "Python 3 (ipykernel)",
   "language": "python",
   "name": "python3"
  },
  "language_info": {
   "codemirror_mode": {
    "name": "ipython",
    "version": 3
   },
   "file_extension": ".py",
   "mimetype": "text/x-python",
   "name": "python",
   "nbconvert_exporter": "python",
   "pygments_lexer": "ipython3",
   "version": "3.12.3"
  }
 },
 "nbformat": 4,
 "nbformat_minor": 5
}
