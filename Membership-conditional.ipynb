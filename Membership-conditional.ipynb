{
 "cells": [
  {
   "cell_type": "code",
   "execution_count": 1,
   "id": "3d458406-0db7-4221-84d5-880147265c29",
   "metadata": {},
   "outputs": [
    {
     "name": "stdout",
     "output_type": "stream",
     "text": [
      "True\n",
      "False\n",
      "False\n",
      "True\n"
     ]
    }
   ],
   "source": [
    "#Membership Operators:\n",
    "#Membership operators are used to test if a sequence (such as a list, set, or string) is presented in an object.\n",
    "#The two membership operators are:\n",
    "#in: Returns True if a specified value is present in the object.\n",
    "#not in: Returns True if a specified value is not present in the object.\n",
    "\n",
    "# Example 1: Using 'in'\n",
    "my_list = [10, 20, 30]\n",
    "print(20 in my_list)  # Output: True\n",
    "print(40 in my_list)  # Output: False\n",
    "\n",
    "# Example 2: Using 'not in'\n",
    "my_string = \"Hello, World!\"\n",
    "print(\"W\" not in my_string)  # Output: False\n",
    "print(\"Z\" not in my_string)  # Output: True\n",
    "\n"
   ]
  },
  {
   "cell_type": "code",
   "execution_count": 3,
   "id": "1de7ca3f-7cac-49e2-b5f1-4747ee1c5650",
   "metadata": {},
   "outputs": [
    {
     "name": "stdout",
     "output_type": "stream",
     "text": [
      "True\n"
     ]
    }
   ],
   "source": [
    "# In Python, identity operators are used to compare objects based on their memory location. \n",
    "#These operators check whether two variables refer to the same object. Let’s explore them with examples:\n",
    "#is Operator:\n",
    "#The is operator returns True if both variables point to the same object.\n",
    "a = 3\n",
    "b = 3\n",
    "print(a is b)  # Output: True\n",
    "\n"
   ]
  },
  {
   "cell_type": "code",
   "execution_count": 5,
   "id": "73279114-cc47-4bae-828d-289f32b5d02c",
   "metadata": {},
   "outputs": [
    {
     "name": "stdout",
     "output_type": "stream",
     "text": [
      "You are eligible to vote.\n"
     ]
    }
   ],
   "source": [
    "# Let’s explore some examples of conditional statements in Python. \n",
    "#Conditional statements allow you to control the flow of your program based on certain conditions. \n",
    "#Here are common scenarios and their corresponding examples:\n",
    "\n",
    "\n",
    "#if Statement:\n",
    "#The if statement executes a block of code if a specified condition is true.\n",
    "\n",
    "age = 18\n",
    "if age <= 18:\n",
    "    print(\"You are eligible to vote.\")\n",
    "\n"
   ]
  },
  {
   "cell_type": "code",
   "execution_count": 6,
   "id": "b6d238b7-6da7-4c81-92dc-a48c7e2e7766",
   "metadata": {},
   "outputs": [
    {
     "name": "stdout",
     "output_type": "stream",
     "text": [
      "Enjoy the pleasant weather.\n"
     ]
    }
   ],
   "source": [
    "# if-else Statement:\n",
    "# The if-else statement executes one block of code if the condition is true and another block if it’s false.\n",
    "temperature = 25\n",
    "if temperature > 30:\n",
    "    print(\"It's hot outside.\")\n",
    "else:\n",
    "    print(\"Enjoy the pleasant weather.\")\n",
    "\n"
   ]
  },
  {
   "cell_type": "code",
   "execution_count": 7,
   "id": "a2da1446-303c-4121-9bca-f3e2296be938",
   "metadata": {},
   "outputs": [
    {
     "name": "stdout",
     "output_type": "stream",
     "text": [
      "Good job!\n"
     ]
    }
   ],
   "source": [
    "#Nested if-else Statement:\n",
    "#You can have an if-else statement inside another if statement (nested).\n",
    "\n",
    "score = 75\n",
    "if score >= 90:\n",
    "    print(\"Excellent!\")\n",
    "else:\n",
    "    if score >= 70:\n",
    "        print(\"Good job!\")\n",
    "    else:\n",
    "        print(\"Keep practicing.\")\n"
   ]
  },
  {
   "cell_type": "code",
   "execution_count": 8,
   "id": "fdefdeac-47a8-4c90-8525-b1a3f9fa01b0",
   "metadata": {},
   "outputs": [
    {
     "name": "stdout",
     "output_type": "stream",
     "text": [
      "Good job!\n"
     ]
    }
   ],
   "source": [
    "#if-elif-else Statement:\n",
    "#The if-elif-else statement allows you to check multiple conditions in sequence.\n",
    "\n",
    "grade = \"B\"\n",
    "if grade == \"A\":\n",
    "    print(\"Excellent!\")\n",
    "elif grade == \"B\":\n",
    "    print(\"Good job!\")\n",
    "else:\n",
    "    print(\"Keep working hard.\")\n"
   ]
  },
  {
   "cell_type": "code",
   "execution_count": 9,
   "id": "e863b11d-f9a5-4d2d-a0ec-90203369e456",
   "metadata": {},
   "outputs": [
    {
     "name": "stdout",
     "output_type": "stream",
     "text": [
      "The number is Even.\n"
     ]
    }
   ],
   "source": [
    "# Ternary Expression:\n",
    "# A concise way to write an if-else statement in a single line\n",
    "x = 10\n",
    "result = \"Even\" if x % 2 == 0 else \"Odd\"\n",
    "print(f\"The number is {result}.\")\n"
   ]
  },
  {
   "cell_type": "code",
   "execution_count": null,
   "id": "16643118-dd25-4c5a-81b6-b7c63832601d",
   "metadata": {},
   "outputs": [],
   "source": []
  }
 ],
 "metadata": {
  "kernelspec": {
   "display_name": "Python 3 (ipykernel)",
   "language": "python",
   "name": "python3"
  },
  "language_info": {
   "codemirror_mode": {
    "name": "ipython",
    "version": 3
   },
   "file_extension": ".py",
   "mimetype": "text/x-python",
   "name": "python",
   "nbconvert_exporter": "python",
   "pygments_lexer": "ipython3",
   "version": "3.12.3"
  }
 },
 "nbformat": 4,
 "nbformat_minor": 5
}
